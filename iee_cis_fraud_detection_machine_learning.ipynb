{
  "metadata": {
    "kernelspec": {
      "language": "python",
      "display_name": "Python 3",
      "name": "python3"
    },
    "language_info": {
      "name": "python",
      "version": "3.7.12",
      "mimetype": "text/x-python",
      "codemirror_mode": {
        "name": "ipython",
        "version": 3
      },
      "pygments_lexer": "ipython3",
      "nbconvert_exporter": "python",
      "file_extension": ".py"
    },
    "colab": {
      "provenance": [],
      "include_colab_link": true
    }
  },
  "nbformat_minor": 0,
  "nbformat": 4,
  "cells": [
    {
      "cell_type": "markdown",
      "metadata": {
        "id": "view-in-github",
        "colab_type": "text"
      },
      "source": [
        "<a href=\"https://colab.research.google.com/github/rafaelMartins1922/kaggle-fraud-detection-challenge/blob/main/iee_cis_fraud_detection_machine_learning.ipynb\" target=\"_parent\"><img src=\"https://colab.research.google.com/assets/colab-badge.svg\" alt=\"Open In Colab\"/></a>"
      ]
    },
    {
      "cell_type": "code",
      "source": [
        "from google.colab import drive\n",
        "drive.mount('/content/drive')"
      ],
      "metadata": {
        "colab": {
          "base_uri": "https://localhost:8080/"
        },
        "id": "DFp3n8_TlqwF",
        "outputId": "b41374e6-0439-4663-cde3-95f8dd52f655"
      },
      "execution_count": null,
      "outputs": [
        {
          "output_type": "stream",
          "name": "stdout",
          "text": [
            "Drive already mounted at /content/drive; to attempt to forcibly remount, call drive.mount(\"/content/drive\", force_remount=True).\n"
          ]
        }
      ]
    },
    {
      "cell_type": "code",
      "source": [
        "# This Python 3 environment comes with many helpful analytics libraries installed\n",
        "# It is defined by the kaggle/python Docker image: https://github.com/kaggle/docker-python\n",
        "# For example, here's several helpful packages to load\n",
        "\n",
        "import numpy as np # linear algebra\n",
        "import pandas as pd # data processing, CSV file I/O (e.g. pd.read_csv)\n",
        "import seaborn as sns\n",
        "import matplotlib.pyplot as plt\n",
        "from sklearn.preprocessing import PolynomialFeatures, StandardScaler, MinMaxScaler, Binarizer, OneHotEncoder\n",
        "from imblearn.over_sampling import RandomOverSampler\n",
        "from imblearn.under_sampling import RandomUnderSampler\n",
        "\n",
        "from sklearn.linear_model import LogisticRegression\n",
        "from sklearn.tree import DecisionTreeClassifier\n",
        "from sklearn.ensemble import RandomForestClassifier\n",
        "from sklearn.cluster import KMeans\n",
        "\n",
        "from sklearn.model_selection import train_test_split\n",
        "\n",
        "from sklearn.metrics import mean_squared_error, median_absolute_error, r2_score\n",
        "from sklearn.metrics import accuracy_score, precision_score, recall_score, roc_auc_score, f1_score, plot_roc_curve\n",
        "from sklearn.metrics import silhouette_score, calinski_harabasz_score\n",
        "\n",
        "# You can write up to 20GB to the current directory (/kaggle/working/) that gets preserved as output when you create a version using \"Save & Run All\" \n",
        "# You can also write temporary files to /kaggle/temp/, but they won't be saved outside of the current session"
      ],
      "metadata": {
        "_uuid": "8f2839f25d086af736a60e9eeb907d3b93b6e0e5",
        "_cell_guid": "b1076dfc-b9ad-4769-8c92-a6c4dae69d19",
        "execution": {
          "iopub.status.busy": "2022-12-18T22:34:53.251402Z",
          "iopub.execute_input": "2022-12-18T22:34:53.251845Z",
          "iopub.status.idle": "2022-12-18T22:34:54.329693Z",
          "shell.execute_reply.started": "2022-12-18T22:34:53.251759Z",
          "shell.execute_reply": "2022-12-18T22:34:54.328578Z"
        },
        "trusted": true,
        "id": "-t2mBKYnkgLa"
      },
      "execution_count": null,
      "outputs": []
    },
    {
      "cell_type": "code",
      "source": [
        "train_transaction = pd.read_csv(\"/content/drive/MyDrive/teste/train_transaction.csv\")\n",
        "test_transaction = pd.read_csv(\"/content/drive/MyDrive/teste/test_transaction.csv\")\n",
        "\n",
        "train_identity = pd.read_csv(\"/content/drive/MyDrive/teste/train_identity.csv\")\n",
        "test_identity = pd.read_csv(\"/content/drive/MyDrive/teste/test_identity.csv\")\n",
        "\n",
        "train = pd.merge(train_transaction, train_identity, on = 'TransactionID', how = 'left')\n",
        "test = pd.merge(test_transaction,test_identity, on = 'TransactionID', how = 'left')"
      ],
      "metadata": {
        "execution": {
          "iopub.status.busy": "2022-12-18T15:47:23.567871Z",
          "iopub.execute_input": "2022-12-18T15:47:23.568333Z",
          "iopub.status.idle": "2022-12-18T15:47:52.038795Z",
          "shell.execute_reply.started": "2022-12-18T15:47:23.568309Z",
          "shell.execute_reply": "2022-12-18T15:47:52.037540Z"
        },
        "trusted": true,
        "id": "lIVEsOVGkgLd"
      },
      "execution_count": null,
      "outputs": []
    },
    {
      "cell_type": "code",
      "source": [
        "test.head()"
      ],
      "metadata": {
        "colab": {
          "base_uri": "https://localhost:8080/",
          "height": 299
        },
        "id": "gzn1FwwRGZDD",
        "outputId": "10316951-9420-4a5d-c4f4-34a8ab8a4023"
      },
      "execution_count": null,
      "outputs": [
        {
          "output_type": "execute_result",
          "data": {
            "text/plain": [
              "   TransactionID  TransactionDT  TransactionAmt ProductCD  card1  card2  \\\n",
              "0        3663549       18403224           31.95         W  10409  111.0   \n",
              "1        3663550       18403263           49.00         W   4272  111.0   \n",
              "2        3663551       18403310          171.00         W   4476  574.0   \n",
              "3        3663552       18403310          284.95         W  10989  360.0   \n",
              "4        3663553       18403317           67.95         W  18018  452.0   \n",
              "\n",
              "   card3       card4  card5  card6  ...  id-31  id-32  id-33  id-34 id-35  \\\n",
              "0  150.0        visa  226.0  debit  ...    NaN    NaN    NaN    NaN   NaN   \n",
              "1  150.0        visa  226.0  debit  ...    NaN    NaN    NaN    NaN   NaN   \n",
              "2  150.0        visa  226.0  debit  ...    NaN    NaN    NaN    NaN   NaN   \n",
              "3  150.0        visa  166.0  debit  ...    NaN    NaN    NaN    NaN   NaN   \n",
              "4  150.0  mastercard  117.0  debit  ...    NaN    NaN    NaN    NaN   NaN   \n",
              "\n",
              "  id-36  id-37  id-38  DeviceType  DeviceInfo  \n",
              "0   NaN    NaN    NaN         NaN         NaN  \n",
              "1   NaN    NaN    NaN         NaN         NaN  \n",
              "2   NaN    NaN    NaN         NaN         NaN  \n",
              "3   NaN    NaN    NaN         NaN         NaN  \n",
              "4   NaN    NaN    NaN         NaN         NaN  \n",
              "\n",
              "[5 rows x 433 columns]"
            ],
            "text/html": [
              "\n",
              "  <div id=\"df-8f29e6a3-b221-4c1d-b92b-d123d0570617\">\n",
              "    <div class=\"colab-df-container\">\n",
              "      <div>\n",
              "<style scoped>\n",
              "    .dataframe tbody tr th:only-of-type {\n",
              "        vertical-align: middle;\n",
              "    }\n",
              "\n",
              "    .dataframe tbody tr th {\n",
              "        vertical-align: top;\n",
              "    }\n",
              "\n",
              "    .dataframe thead th {\n",
              "        text-align: right;\n",
              "    }\n",
              "</style>\n",
              "<table border=\"1\" class=\"dataframe\">\n",
              "  <thead>\n",
              "    <tr style=\"text-align: right;\">\n",
              "      <th></th>\n",
              "      <th>TransactionID</th>\n",
              "      <th>TransactionDT</th>\n",
              "      <th>TransactionAmt</th>\n",
              "      <th>ProductCD</th>\n",
              "      <th>card1</th>\n",
              "      <th>card2</th>\n",
              "      <th>card3</th>\n",
              "      <th>card4</th>\n",
              "      <th>card5</th>\n",
              "      <th>card6</th>\n",
              "      <th>...</th>\n",
              "      <th>id-31</th>\n",
              "      <th>id-32</th>\n",
              "      <th>id-33</th>\n",
              "      <th>id-34</th>\n",
              "      <th>id-35</th>\n",
              "      <th>id-36</th>\n",
              "      <th>id-37</th>\n",
              "      <th>id-38</th>\n",
              "      <th>DeviceType</th>\n",
              "      <th>DeviceInfo</th>\n",
              "    </tr>\n",
              "  </thead>\n",
              "  <tbody>\n",
              "    <tr>\n",
              "      <th>0</th>\n",
              "      <td>3663549</td>\n",
              "      <td>18403224</td>\n",
              "      <td>31.95</td>\n",
              "      <td>W</td>\n",
              "      <td>10409</td>\n",
              "      <td>111.0</td>\n",
              "      <td>150.0</td>\n",
              "      <td>visa</td>\n",
              "      <td>226.0</td>\n",
              "      <td>debit</td>\n",
              "      <td>...</td>\n",
              "      <td>NaN</td>\n",
              "      <td>NaN</td>\n",
              "      <td>NaN</td>\n",
              "      <td>NaN</td>\n",
              "      <td>NaN</td>\n",
              "      <td>NaN</td>\n",
              "      <td>NaN</td>\n",
              "      <td>NaN</td>\n",
              "      <td>NaN</td>\n",
              "      <td>NaN</td>\n",
              "    </tr>\n",
              "    <tr>\n",
              "      <th>1</th>\n",
              "      <td>3663550</td>\n",
              "      <td>18403263</td>\n",
              "      <td>49.00</td>\n",
              "      <td>W</td>\n",
              "      <td>4272</td>\n",
              "      <td>111.0</td>\n",
              "      <td>150.0</td>\n",
              "      <td>visa</td>\n",
              "      <td>226.0</td>\n",
              "      <td>debit</td>\n",
              "      <td>...</td>\n",
              "      <td>NaN</td>\n",
              "      <td>NaN</td>\n",
              "      <td>NaN</td>\n",
              "      <td>NaN</td>\n",
              "      <td>NaN</td>\n",
              "      <td>NaN</td>\n",
              "      <td>NaN</td>\n",
              "      <td>NaN</td>\n",
              "      <td>NaN</td>\n",
              "      <td>NaN</td>\n",
              "    </tr>\n",
              "    <tr>\n",
              "      <th>2</th>\n",
              "      <td>3663551</td>\n",
              "      <td>18403310</td>\n",
              "      <td>171.00</td>\n",
              "      <td>W</td>\n",
              "      <td>4476</td>\n",
              "      <td>574.0</td>\n",
              "      <td>150.0</td>\n",
              "      <td>visa</td>\n",
              "      <td>226.0</td>\n",
              "      <td>debit</td>\n",
              "      <td>...</td>\n",
              "      <td>NaN</td>\n",
              "      <td>NaN</td>\n",
              "      <td>NaN</td>\n",
              "      <td>NaN</td>\n",
              "      <td>NaN</td>\n",
              "      <td>NaN</td>\n",
              "      <td>NaN</td>\n",
              "      <td>NaN</td>\n",
              "      <td>NaN</td>\n",
              "      <td>NaN</td>\n",
              "    </tr>\n",
              "    <tr>\n",
              "      <th>3</th>\n",
              "      <td>3663552</td>\n",
              "      <td>18403310</td>\n",
              "      <td>284.95</td>\n",
              "      <td>W</td>\n",
              "      <td>10989</td>\n",
              "      <td>360.0</td>\n",
              "      <td>150.0</td>\n",
              "      <td>visa</td>\n",
              "      <td>166.0</td>\n",
              "      <td>debit</td>\n",
              "      <td>...</td>\n",
              "      <td>NaN</td>\n",
              "      <td>NaN</td>\n",
              "      <td>NaN</td>\n",
              "      <td>NaN</td>\n",
              "      <td>NaN</td>\n",
              "      <td>NaN</td>\n",
              "      <td>NaN</td>\n",
              "      <td>NaN</td>\n",
              "      <td>NaN</td>\n",
              "      <td>NaN</td>\n",
              "    </tr>\n",
              "    <tr>\n",
              "      <th>4</th>\n",
              "      <td>3663553</td>\n",
              "      <td>18403317</td>\n",
              "      <td>67.95</td>\n",
              "      <td>W</td>\n",
              "      <td>18018</td>\n",
              "      <td>452.0</td>\n",
              "      <td>150.0</td>\n",
              "      <td>mastercard</td>\n",
              "      <td>117.0</td>\n",
              "      <td>debit</td>\n",
              "      <td>...</td>\n",
              "      <td>NaN</td>\n",
              "      <td>NaN</td>\n",
              "      <td>NaN</td>\n",
              "      <td>NaN</td>\n",
              "      <td>NaN</td>\n",
              "      <td>NaN</td>\n",
              "      <td>NaN</td>\n",
              "      <td>NaN</td>\n",
              "      <td>NaN</td>\n",
              "      <td>NaN</td>\n",
              "    </tr>\n",
              "  </tbody>\n",
              "</table>\n",
              "<p>5 rows × 433 columns</p>\n",
              "</div>\n",
              "      <button class=\"colab-df-convert\" onclick=\"convertToInteractive('df-8f29e6a3-b221-4c1d-b92b-d123d0570617')\"\n",
              "              title=\"Convert this dataframe to an interactive table.\"\n",
              "              style=\"display:none;\">\n",
              "        \n",
              "  <svg xmlns=\"http://www.w3.org/2000/svg\" height=\"24px\"viewBox=\"0 0 24 24\"\n",
              "       width=\"24px\">\n",
              "    <path d=\"M0 0h24v24H0V0z\" fill=\"none\"/>\n",
              "    <path d=\"M18.56 5.44l.94 2.06.94-2.06 2.06-.94-2.06-.94-.94-2.06-.94 2.06-2.06.94zm-11 1L8.5 8.5l.94-2.06 2.06-.94-2.06-.94L8.5 2.5l-.94 2.06-2.06.94zm10 10l.94 2.06.94-2.06 2.06-.94-2.06-.94-.94-2.06-.94 2.06-2.06.94z\"/><path d=\"M17.41 7.96l-1.37-1.37c-.4-.4-.92-.59-1.43-.59-.52 0-1.04.2-1.43.59L10.3 9.45l-7.72 7.72c-.78.78-.78 2.05 0 2.83L4 21.41c.39.39.9.59 1.41.59.51 0 1.02-.2 1.41-.59l7.78-7.78 2.81-2.81c.8-.78.8-2.07 0-2.86zM5.41 20L4 18.59l7.72-7.72 1.47 1.35L5.41 20z\"/>\n",
              "  </svg>\n",
              "      </button>\n",
              "      \n",
              "  <style>\n",
              "    .colab-df-container {\n",
              "      display:flex;\n",
              "      flex-wrap:wrap;\n",
              "      gap: 12px;\n",
              "    }\n",
              "\n",
              "    .colab-df-convert {\n",
              "      background-color: #E8F0FE;\n",
              "      border: none;\n",
              "      border-radius: 50%;\n",
              "      cursor: pointer;\n",
              "      display: none;\n",
              "      fill: #1967D2;\n",
              "      height: 32px;\n",
              "      padding: 0 0 0 0;\n",
              "      width: 32px;\n",
              "    }\n",
              "\n",
              "    .colab-df-convert:hover {\n",
              "      background-color: #E2EBFA;\n",
              "      box-shadow: 0px 1px 2px rgba(60, 64, 67, 0.3), 0px 1px 3px 1px rgba(60, 64, 67, 0.15);\n",
              "      fill: #174EA6;\n",
              "    }\n",
              "\n",
              "    [theme=dark] .colab-df-convert {\n",
              "      background-color: #3B4455;\n",
              "      fill: #D2E3FC;\n",
              "    }\n",
              "\n",
              "    [theme=dark] .colab-df-convert:hover {\n",
              "      background-color: #434B5C;\n",
              "      box-shadow: 0px 1px 3px 1px rgba(0, 0, 0, 0.15);\n",
              "      filter: drop-shadow(0px 1px 2px rgba(0, 0, 0, 0.3));\n",
              "      fill: #FFFFFF;\n",
              "    }\n",
              "  </style>\n",
              "\n",
              "      <script>\n",
              "        const buttonEl =\n",
              "          document.querySelector('#df-8f29e6a3-b221-4c1d-b92b-d123d0570617 button.colab-df-convert');\n",
              "        buttonEl.style.display =\n",
              "          google.colab.kernel.accessAllowed ? 'block' : 'none';\n",
              "\n",
              "        async function convertToInteractive(key) {\n",
              "          const element = document.querySelector('#df-8f29e6a3-b221-4c1d-b92b-d123d0570617');\n",
              "          const dataTable =\n",
              "            await google.colab.kernel.invokeFunction('convertToInteractive',\n",
              "                                                     [key], {});\n",
              "          if (!dataTable) return;\n",
              "\n",
              "          const docLinkHtml = 'Like what you see? Visit the ' +\n",
              "            '<a target=\"_blank\" href=https://colab.research.google.com/notebooks/data_table.ipynb>data table notebook</a>'\n",
              "            + ' to learn more about interactive tables.';\n",
              "          element.innerHTML = '';\n",
              "          dataTable['output_type'] = 'display_data';\n",
              "          await google.colab.output.renderOutput(dataTable, element);\n",
              "          const docLink = document.createElement('div');\n",
              "          docLink.innerHTML = docLinkHtml;\n",
              "          element.appendChild(docLink);\n",
              "        }\n",
              "      </script>\n",
              "    </div>\n",
              "  </div>\n",
              "  "
            ]
          },
          "metadata": {},
          "execution_count": 3
        }
      ]
    },
    {
      "cell_type": "code",
      "source": [
        "print('train:',train.shape)\n",
        "print('test:', test.shape)"
      ],
      "metadata": {
        "execution": {
          "iopub.status.busy": "2022-12-18T15:26:11.540339Z",
          "iopub.execute_input": "2022-12-18T15:26:11.540785Z",
          "iopub.status.idle": "2022-12-18T15:26:11.548474Z",
          "shell.execute_reply.started": "2022-12-18T15:26:11.540750Z",
          "shell.execute_reply": "2022-12-18T15:26:11.547153Z"
        },
        "trusted": true,
        "colab": {
          "base_uri": "https://localhost:8080/"
        },
        "id": "bVOFrznqkgLf",
        "outputId": "6929d51b-be60-45c7-dc86-cf4b162182a6"
      },
      "execution_count": null,
      "outputs": [
        {
          "output_type": "stream",
          "name": "stdout",
          "text": [
            "train: (590540, 434)\n",
            "test: (506691, 433)\n"
          ]
        }
      ]
    },
    {
      "cell_type": "code",
      "source": [
        "# Data Transformation\n",
        "## dropping nulls\n",
        "# train.dropna(thresh=train.shape[0]*0.5,how='all',axis=1, inplace=True)\n",
        "\n"
      ],
      "metadata": {
        "execution": {
          "iopub.status.busy": "2022-12-18T15:48:42.100515Z",
          "iopub.execute_input": "2022-12-18T15:48:42.101216Z",
          "iopub.status.idle": "2022-12-18T15:48:43.515253Z",
          "shell.execute_reply.started": "2022-12-18T15:48:42.101176Z",
          "shell.execute_reply": "2022-12-18T15:48:43.513429Z"
        },
        "trusted": true,
        "id": "Ccr1w8YOkgLh"
      },
      "execution_count": null,
      "outputs": []
    },
    {
      "cell_type": "code",
      "source": [
        "# Data Transformation\n",
        "\n",
        "## dropping unecessary columns\n",
        "train = train[['ProductCD', 'DeviceType', 'card4', 'card6', 'R_emaildomain', 'id_02', 'id_16', 'id_35', 'id_38', 'V10', 'V12', 'V13', 'V15', 'V17', 'V18', 'V24', 'V31','isFraud']]\n",
        "test = test[['ProductCD', 'DeviceType', 'card4', 'card6', 'R_emaildomain', 'id-02', 'id-16', 'id-35', 'id-38', 'V10', 'V12', 'V13', 'V15', 'V17', 'V18', 'V24', 'V31']]\n",
        "\n",
        "continuous = train.select_dtypes(include=[np.number]).columns # all continuous columns\n",
        "categorical = train.select_dtypes(exclude=[np.number]).columns\n",
        "## filling nulls\n",
        "train = train.fillna(train.mode().iloc[0])\n",
        "\n",
        "## normalization, standardization \n",
        "train[continuous] = (train[continuous]-train[continuous].mean())/train[continuous].std() \n",
        "train[continuous] = (train[continuous]-train[continuous].min())/(train[continuous].max()-train[continuous].min())"
      ],
      "metadata": {
        "id": "AEEGKL5pibXp"
      },
      "execution_count": null,
      "outputs": []
    },
    {
      "cell_type": "code",
      "source": [
        "train.isna().sum()"
      ],
      "metadata": {
        "id": "CcdPf6RiIKag"
      },
      "execution_count": null,
      "outputs": []
    },
    {
      "cell_type": "code",
      "source": [
        "# Makes predictions and prints metrics used to evaluate each model\n",
        "def evaluate_supervised_model(model, X_train, X_test, y_train, y_test, model_name):\n",
        "    model.fit(X_train, y_train)\n",
        "    y_pred = model.predict(X_test)\n",
        "    \n",
        "    accuracy = accuracy_score(y_test, y_pred)\n",
        "    precision = precision_score(y_test, y_pred)\n",
        "    recall = recall_score(y_test, y_pred)\n",
        "    ra_score = roc_auc_score(y_test, y_pred)\n",
        "    f1 = f1_score(y_test, y_pred)\n",
        "    \n",
        "    print('Acurácia: ', accuracy)\n",
        "    print('Precisão: ', precision)\n",
        "    print('Recall: ', recall)\n",
        "    print('ROC AUC Score: ', ra_score)\n",
        "    print('F1: ', f1)\n",
        "    \n",
        "    return {'Acurácia':accuracy, 'Precisão':precision, 'Recall': recall, 'F1':f1}"
      ],
      "metadata": {
        "execution": {
          "iopub.status.busy": "2022-12-18T15:48:53.400683Z",
          "iopub.execute_input": "2022-12-18T15:48:53.401023Z",
          "iopub.status.idle": "2022-12-18T15:48:53.408297Z",
          "shell.execute_reply.started": "2022-12-18T15:48:53.400999Z",
          "shell.execute_reply": "2022-12-18T15:48:53.407326Z"
        },
        "trusted": true,
        "id": "n58ICM6SkgLi"
      },
      "execution_count": null,
      "outputs": []
    },
    {
      "cell_type": "code",
      "source": [
        "# Supervised learning - Decision Tree Classifier\n",
        "features = ['ProductCD', 'DeviceType', 'card4', 'card6', 'R_emaildomain', 'id_02', 'id_16', 'id_35', 'id_38', 'V10', 'V12', 'V13', 'V15', 'V17', 'V18', 'V24', 'V31']\n",
        "target = 'isFraud'\n",
        "#Data split - No sampling\n",
        "X = train[features]\n",
        "y = train[target]\n",
        "\n",
        "decision_tree_results = pd.DataFrame()\n",
        "\n",
        "print('\\nDecision Tree Classifier - No resampling')\n",
        "dtc = DecisionTreeClassifier()\n",
        "X = pd.get_dummies(X)\n",
        "X_train, X_test, y_train, y_test = train_test_split(X, y, test_size=0.20)\n",
        "\n",
        "new_results = evaluate_supervised_model(dtc, X_train, X_test, y_train, y_test, 'Decision Tree Classifier')\n",
        "decision_tree_results = decision_tree_results.append(new_results, ignore_index=True)\n",
        "\n",
        "print(decision_tree_results)\n",
        "\n",
        "print('\\nDecision Tree Classifier - Undersampling')\n",
        "dtc = DecisionTreeClassifier()\n",
        "rus = RandomUnderSampler()\n",
        "X_rus, y_rus = rus.fit_resample(X,y)\n",
        "X_rus = pd.get_dummies(X_rus)\n",
        "X_train_rus, X_test_rus, y_train_rus, y_test_rus = train_test_split(X_rus, y_rus, test_size=0.20)\n",
        "new_results = evaluate_supervised_model(dtc, X_train_rus, X_test_rus, y_train_rus, y_test_rus, 'Decision Tree Classifier')\n",
        "decision_tree_results = decision_tree_results.append(new_results, ignore_index=True)\n",
        "\n",
        "print('\\nDecision Tree Classifier - Oversampling')\n",
        "dtc = DecisionTreeClassifier()\n",
        "\n",
        "ros = RandomOverSampler()\n",
        "X_ros, y_ros = ros.fit_resample(X,y)\n",
        "X_ros = pd.get_dummies(X_ros)\n",
        "\n",
        "X_train_ros, X_test_ros, y_train_ros, y_test_ros = train_test_split(X_ros, y_ros, test_size=0.20)\n",
        "\n",
        "new_results = evaluate_supervised_model(dtc, X_train_ros, X_test_ros, y_train_ros, y_test_ros, 'Decision Tree Classifier')\n",
        "decision_tree_results = decision_tree_results.append(new_results, ignore_index=True)\n",
        "\n",
        "print(decision_tree_results)"
      ],
      "metadata": {
        "execution": {
          "iopub.status.busy": "2022-12-18T15:48:59.586219Z",
          "iopub.execute_input": "2022-12-18T15:48:59.586529Z",
          "iopub.status.idle": "2022-12-18T15:49:16.032336Z",
          "shell.execute_reply.started": "2022-12-18T15:48:59.586507Z",
          "shell.execute_reply": "2022-12-18T15:49:16.031174Z"
        },
        "trusted": true,
        "colab": {
          "base_uri": "https://localhost:8080/"
        },
        "id": "BbeL1h6MkgLk",
        "outputId": "aed0ad4a-763c-4836-e10e-26ef7f2827f8"
      },
      "execution_count": null,
      "outputs": [
        {
          "output_type": "stream",
          "name": "stdout",
          "text": [
            "\n",
            "Decision Tree Classifier - No resampling\n",
            "Acurácia:  0.9568361160971315\n",
            "Precisão:  0.2942404006677796\n",
            "Recall:  0.17144941634241245\n",
            "ROC AUC Score:  0.5783077812614901\n",
            "F1:  0.21665642286416717\n",
            "   Acurácia  Precisão    Recall        F1\n",
            "0  0.956836   0.29424  0.171449  0.216656\n",
            "\n",
            "Decision Tree Classifier - Undersampling\n",
            "Acurácia:  0.6959835470602468\n",
            "Precisão:  0.7531013615733737\n",
            "Recall:  0.5946010511227903\n",
            "ROC AUC Score:  0.6973005255613952\n",
            "F1:  0.6645307702576425\n",
            "\n",
            "Decision Tree Classifier - Oversampling\n",
            "Acurácia:  0.806037262394111\n",
            "Precisão:  0.8806779292737248\n",
            "Recall:  0.7092472854855503\n",
            "ROC AUC Score:  0.8063076421092957\n",
            "F1:  0.7857205168219135\n",
            "   Acurácia  Precisão    Recall        F1\n",
            "0  0.956836  0.294240  0.171449  0.216656\n",
            "1  0.695984  0.753101  0.594601  0.664531\n",
            "2  0.806037  0.880678  0.709247  0.785721\n"
          ]
        }
      ]
    },
    {
      "cell_type": "code",
      "source": [
        "# Supervised learning - Random Forest Classifier\n",
        "random_forest_results = pd.DataFrame()\n",
        "\n",
        "print('\\nRandom Forest Classifier - No resampling')\n",
        "\n",
        "rfc = RandomForestClassifier()\n",
        "X = pd.get_dummies(X)\n",
        "X_train, X_test, y_train, y_test = train_test_split(X, y, test_size=0.20)\n",
        "\n",
        "new_results = evaluate_supervised_model(rfc, X_train, X_test, y_train, y_test, 'Random Forest Classifier')\n",
        "random_forest_results = random_forest_results.append(new_results, ignore_index=True)\n",
        "\n",
        "print(random_forest_results)\n",
        "\n",
        "print('\\nRandom Forest Classifier - Undersampling')\n",
        "rfc = RandomForestClassifier()\n",
        "\n",
        "rus = RandomUnderSampler()\n",
        "X_rus, y_rus = rus.fit_resample(X,y)\n",
        "X_rus = pd.get_dummies(X_rus)\n",
        "X_train_rus, X_test_rus, y_train_rus, y_test_rus = train_test_split(X_rus, y_rus, test_size=0.20)\n",
        "\n",
        "new_results = evaluate_supervised_model(rfc, X_train_rus, X_test_rus, y_train_rus, y_test_rus, 'Random Forest Classifier')\n",
        "random_forest_results = random_forest_results.append(new_results, ignore_index=True)\n",
        "\n",
        "print('\\nRandom Forest Classifier - Oversampling')\n",
        "rfc = RandomForestClassifier()\n",
        "\n",
        "ros = RandomOverSampler()\n",
        "X_ros, y_ros = ros.fit_resample(X,y)\n",
        "X_ros = pd.get_dummies(X_ros)\n",
        "X_train_ros, X_test_ros, y_train_ros, y_test_ros = train_test_split(X_ros, y_ros, test_size=0.20)\n",
        "\n",
        "new_results = evaluate_supervised_model(rfc, X_train_ros, X_test_ros, y_train_ros, y_test_ros, 'Random Forest Classifier')\n",
        "random_forest_results = random_forest_results.append(new_results, ignore_index=True)\n",
        "\n",
        "print(random_forest_results)"
      ],
      "metadata": {
        "execution": {
          "iopub.status.busy": "2022-12-18T15:50:12.217007Z",
          "iopub.execute_input": "2022-12-18T15:50:12.217592Z",
          "iopub.status.idle": "2022-12-18T15:57:27.817343Z",
          "shell.execute_reply.started": "2022-12-18T15:50:12.217556Z",
          "shell.execute_reply": "2022-12-18T15:57:27.816706Z"
        },
        "trusted": true,
        "colab": {
          "base_uri": "https://localhost:8080/"
        },
        "id": "hWO8uuhwkgLm",
        "outputId": "f0d35f25-54ba-4116-e459-0d5e86be02b5"
      },
      "execution_count": null,
      "outputs": [
        {
          "output_type": "stream",
          "name": "stdout",
          "text": [
            "\n",
            "Random Forest Classifier - No resampling\n",
            "Acurácia:  0.9581484742777796\n",
            "Precisão:  0.32038834951456313\n",
            "Recall:  0.17582949866795836\n",
            "ROC AUC Score:  0.5811591189108309\n",
            "F1:  0.2270523846755278\n",
            "   Acurácia  Precisão    Recall        F1\n",
            "0  0.958148  0.320388  0.175829  0.227052\n",
            "\n",
            "Random Forest Classifier - Undersampling\n",
            "Acurácia:  0.7042100169368497\n",
            "Precisão:  0.7479166666666667\n",
            "Recall:  0.6112867915349064\n",
            "ROC AUC Score:  0.703718004672387\n",
            "F1:  0.672734573684915\n",
            "\n",
            "Random Forest Classifier - Oversampling\n",
            "Acurácia:  0.8050370474356331\n",
            "Precisão:  0.8870048909333065\n",
            "Recall:  0.6976557892234967\n",
            "ROC AUC Score:  0.8046834983615735\n",
            "F1:  0.7810177976624554\n",
            "   Acurácia  Precisão    Recall        F1\n",
            "0  0.958148  0.320388  0.175829  0.227052\n",
            "1  0.704210  0.747917  0.611287  0.672735\n",
            "2  0.805037  0.887005  0.697656  0.781018\n"
          ]
        }
      ]
    },
    {
      "cell_type": "code",
      "source": [
        "KMean= KMeans(n_clusters=2)\n",
        "\n",
        "kmeans_results = pd.DataFrame()\n",
        "X = pd.get_dummies(X)\n",
        "X_train, X_test, y_train, y_test = train_test_split(X, y, test_size=0.20)\n",
        "\n",
        "KMean.fit(X_train)\n",
        "label=KMean.predict(X_test)\n",
        "\n",
        "s_score = silhouette_score(X_test, label)\n",
        "print(f'Silhouette Score(n=2): {silhouette_score}')\n",
        "\n",
        "ch_score = calinski_harabasz_score(X_test, label)\n",
        "print(f'Calinski-Harabasz score(n=2): {ch_score}')\n",
        "\n",
        "new_results = {'Sillhuette Score': s_score, 'Calinski-Harabasz Score': ch_score}\n",
        "kmeans_results = kmeans_results.append(new_results, ignore_index=True)\n",
        "\n",
        "print(kmeans_results, new_results)\n",
        "\n",
        "KMean= KMeans(n_clusters=2)\n",
        "\n",
        "rus = RandomUnderSampler()\n",
        "X_rus, y_rus = rus.fit_resample(X,y)\n",
        "X_rus = pd.get_dummies(X_rus)\n",
        "X_train_rus, X_test_rus, y_train_rus, y_test_rus = train_test_split(X_rus, y_rus, test_size=0.20)\n",
        "\n",
        "KMean.fit(X_train_rus)\n",
        "label=KMean.predict(X_test_rus)\n",
        "\n",
        "s_score = silhouette_score(X_test_rus, label)\n",
        "print(f'Silhouette Score(n=2): {silhouette_score}')\n",
        "\n",
        "ch_score = calinski_harabasz_score(X_test_rus, label)\n",
        "print(f'Calinski-Harabasz score(n=2): {ch_score}')\n",
        "\n",
        "new_results = {'Sillhuette Score': s_score, 'Calinski-Harabasz Score': ch_score}\n",
        "kmeans_results = kmeans_results.append(new_results, ignore_index=True)\n",
        "print(kmeans_results)\n",
        "\n",
        "KMean= KMeans(n_clusters=2)\n",
        "ros = RandomOverSampler()\n",
        "X_ros, y_ros = ros.fit_resample(X,y)\n",
        "X_ros = pd.get_dummies(X_ros)\n",
        "X_train_ros, X_test_ros, y_train_ros, y_test_ros = train_test_split(X_ros, y_ros, test_size=0.20)\n",
        "\n",
        "KMean.fit(X_train_ros)\n",
        "label=KMean.predict(X_test_ros)\n",
        "\n",
        "s_score = silhouette_score(X_test_ros, label)\n",
        "print(f'Silhouette Score(n=2): {silhouette_score}')\n",
        "\n",
        "ch_score = calinski_harabasz_score(X_test_ros, label)\n",
        "print(f'Calinski-Harabasz score(n=2): {ch_score}')\n",
        "\n",
        "new_results = {'Sillhuette Score': s_score, 'Calinski-Harabasz Score': ch_score}\n",
        "kmeans_results = kmeans_results.append(new_results, ignore_index=True)\n",
        "print(kmeans_results)"
      ],
      "metadata": {
        "execution": {
          "iopub.status.busy": "2022-12-18T17:31:29.398070Z",
          "iopub.execute_input": "2022-12-18T17:31:29.398400Z",
          "iopub.status.idle": "2022-12-18T17:41:58.327240Z",
          "shell.execute_reply.started": "2022-12-18T17:31:29.398376Z",
          "shell.execute_reply": "2022-12-18T17:41:58.325701Z"
        },
        "trusted": true,
        "colab": {
          "base_uri": "https://localhost:8080/"
        },
        "id": "B0yndLdckgLm",
        "outputId": "c1065f5e-f2db-4c75-d14b-184276506e4a"
      },
      "execution_count": null,
      "outputs": [
        {
          "output_type": "stream",
          "name": "stdout",
          "text": [
            "Silhouette Score(n=2): <function silhouette_score at 0x7fb66f747c10>\n",
            "Calinski-Harabasz score(n=2): 44354.03964451457\n",
            "   Sillhuette Score  Calinski-Harabasz Score\n",
            "0          0.478552             44354.039645 {'Sillhuette Score': 0.4785516241122966, 'Calinski-Harabasz Score': 44354.03964451457}\n",
            "Silhouette Score(n=2): <function silhouette_score at 0x7fb66f747c10>\n",
            "Calinski-Harabasz score(n=2): 3274.6568647822487\n",
            "   Sillhuette Score  Calinski-Harabasz Score\n",
            "0          0.478552             44354.039645\n",
            "1          0.384227              3274.656865\n",
            "Silhouette Score(n=2): <function silhouette_score at 0x7fb66f747c10>\n",
            "Calinski-Harabasz score(n=2): 91124.73189422779\n",
            "   Sillhuette Score  Calinski-Harabasz Score\n",
            "0          0.478552             44354.039645\n",
            "1          0.384227              3274.656865\n",
            "2          0.386042             91124.731894\n"
          ]
        }
      ]
    },
    {
      "cell_type": "code",
      "source": [
        "print(decision_tree_results)\n",
        "print(random_forest_results)\n",
        "print(kmeans_results)"
      ],
      "metadata": {
        "trusted": true,
        "colab": {
          "base_uri": "https://localhost:8080/"
        },
        "id": "Iz6sovIPkgLo",
        "outputId": "3fcf82a2-ef4c-4002-8f39-32c77e4e9bd3"
      },
      "execution_count": null,
      "outputs": [
        {
          "output_type": "stream",
          "name": "stdout",
          "text": [
            "   Acurácia  Precisão    Recall        F1\n",
            "0  0.956836  0.294240  0.171449  0.216656\n",
            "1  0.695984  0.753101  0.594601  0.664531\n",
            "2  0.806037  0.880678  0.709247  0.785721\n",
            "   Acurácia  Precisão    Recall        F1\n",
            "0  0.958148  0.320388  0.175829  0.227052\n",
            "1  0.704210  0.747917  0.611287  0.672735\n",
            "2  0.805037  0.887005  0.697656  0.781018\n",
            "   Sillhuette Score  Calinski-Harabasz Score\n",
            "0          0.478552             44354.039645\n",
            "1          0.384227              3274.656865\n",
            "2          0.386042             91124.731894\n"
          ]
        }
      ]
    },
    {
      "cell_type": "code",
      "source": [
        "plot_X = list(decision_tree_results.columns)\n",
        "print(plot_X)\n",
        "\n",
        "X_axis = np.arange(len(plot_X))\n",
        "plt.figure().set_figwidth(10)\n",
        "\n",
        "\n",
        "plt.figure().set_figwidth(10)\n",
        "plt.bar(X_axis - 0.2, decision_tree_results.iloc[0], 0.4, label= 'Normal')\n",
        "plt.bar(X_axis, decision_tree_results.iloc[1] , 0.4, label= 'Undesampling')\n",
        "plt.bar(X_axis+0.2, decision_tree_results.iloc[2] , 0.4, label= 'Oversampling')\n",
        "\n",
        "plt.xticks(X_axis, plot_X)\n",
        "plt.xlabel('Medidas')\n",
        "plt.ylabel(f'Valores')\n",
        "plt.title(f'Medidas da Árvore de Decisão por técnica de amostragem')\n",
        "plt.legend(bbox_to_anchor=(1.05, 1.0), loc='upper left')\n",
        "plt.show()"
      ],
      "metadata": {
        "execution": {
          "iopub.status.busy": "2022-12-18T17:07:53.303156Z",
          "iopub.execute_input": "2022-12-18T17:07:53.303467Z",
          "iopub.status.idle": "2022-12-18T17:07:53.481032Z",
          "shell.execute_reply.started": "2022-12-18T17:07:53.303443Z",
          "shell.execute_reply": "2022-12-18T17:07:53.479951Z"
        },
        "trusted": true,
        "colab": {
          "base_uri": "https://localhost:8080/",
          "height": 333
        },
        "id": "nTE18mIVkgLo",
        "outputId": "e409b3d1-eca8-4df0-cb7d-733508bd3083"
      },
      "execution_count": null,
      "outputs": [
        {
          "output_type": "stream",
          "name": "stdout",
          "text": [
            "['Acurácia', 'Precisão', 'Recall', 'F1']\n"
          ]
        },
        {
          "output_type": "display_data",
          "data": {
            "text/plain": [
              "<Figure size 720x288 with 0 Axes>"
            ]
          },
          "metadata": {}
        },
        {
          "output_type": "display_data",
          "data": {
            "text/plain": [
              "<Figure size 720x288 with 1 Axes>"
            ],
            "image/png": "[encoded data removed]"
          },
          "metadata": {
            "needs_background": "light"
          }
        }
      ]
    },
    {
      "cell_type": "code",
      "source": [
        "plot_X = list(random_forest_results.columns)\n",
        "print(plot_X)\n",
        "\n",
        "X_axis = np.arange(len(plot_X))\n",
        "plt.figure().set_figwidth(10)\n",
        "\n",
        "\n",
        "plt.figure().set_figwidth(10)\n",
        "plt.bar(X_axis - 0.2, random_forest_results.iloc[0], 0.4, label= 'Normal')\n",
        "plt.bar(X_axis, random_forest_results.iloc[1] , 0.4, label= 'Undersampling')\n",
        "plt.bar(X_axis+0.2, random_forest_results.iloc[2] , 0.4, label= 'Oversampling')\n",
        "\n",
        "plt.xticks(X_axis, plot_X)\n",
        "plt.xlabel('Medidas')\n",
        "plt.ylabel(f'Valores')\n",
        "plt.title(f'Medidas da Floresta Aleatória por técnica de amostragem')\n",
        "plt.legend(bbox_to_anchor=(1.05, 1.0), loc='upper left')\n",
        "plt.show()"
      ],
      "metadata": {
        "execution": {
          "iopub.status.busy": "2022-12-18T17:09:31.204678Z",
          "iopub.execute_input": "2022-12-18T17:09:31.205969Z",
          "iopub.status.idle": "2022-12-18T17:09:31.344573Z",
          "shell.execute_reply.started": "2022-12-18T17:09:31.205936Z",
          "shell.execute_reply": "2022-12-18T17:09:31.343716Z"
        },
        "trusted": true,
        "colab": {
          "base_uri": "https://localhost:8080/",
          "height": 331
        },
        "id": "tXPv9ZhBkgLp",
        "outputId": "6f9ca33b-dfaa-4ab7-d27c-18343c404f11"
      },
      "execution_count": null,
      "outputs": [
        {
          "output_type": "stream",
          "name": "stdout",
          "text": [
            "['Acurácia', 'Precisão', 'Recall', 'F1']\n"
          ]
        },
        {
          "output_type": "display_data",
          "data": {
            "text/plain": [
              "<Figure size 720x288 with 0 Axes>"
            ]
          },
          "metadata": {}
        },
        {
          "output_type": "display_data",
          "data": {
            "text/plain": [
              "<Figure size 720x288 with 1 Axes>"
            ],
            "image/png": "[encoded data removed]"
          },
          "metadata": {
            "needs_background": "light"
          }
        }
      ]
    },
    {
      "cell_type": "code",
      "source": [
        "x_axis = ['Normal' ,'Undersampling', 'Oversampling']\n",
        "y_axis = list(kmeans_results['Sillhuette Score'])\n",
        "print(y_axis)\n",
        "\n",
        "plt.plot(x_axis, y_axis, marker='.', linestyle='dashed')\n",
        "plt.title('Sillhuete Score x Tipo de Amostragem')\n",
        "plt.xlabel('Tipo de Amostragem')\n",
        "plt.ylabel('Silhuette Score')\n",
        "plt.show()\n",
        "\n",
        "x_axis = ['Normal' ,'Undersampling', 'Oversampling']\n",
        "y_axis = list(kmeans_results['Calinski-Harabasz Score'])\n",
        "print(y_axis)\n",
        "\n",
        "plt.plot(x_axis, y_axis, marker='.', linestyle='dashed')\n",
        "plt.title('Calinski-Harabasz x Tipo de Amostragem')\n",
        "plt.xlabel('Tipo de Amostragem')\n",
        "plt.ylabel('Silhuette Score')\n",
        "plt.show()"
      ],
      "metadata": {
        "execution": {
          "iopub.status.busy": "2022-12-18T18:10:33.415142Z",
          "iopub.execute_input": "2022-12-18T18:10:33.415949Z",
          "iopub.status.idle": "2022-12-18T18:10:33.733344Z",
          "shell.execute_reply.started": "2022-12-18T18:10:33.415924Z",
          "shell.execute_reply": "2022-12-18T18:10:33.732171Z"
        },
        "trusted": true,
        "colab": {
          "base_uri": "https://localhost:8080/",
          "height": 609
        },
        "id": "-xaKABKUkgLq",
        "outputId": "3ede878a-0e12-4206-fa21-b03b9c949434"
      },
      "execution_count": null,
      "outputs": [
        {
          "output_type": "stream",
          "name": "stdout",
          "text": [
            "[0.4785516241122966, 0.38422656073853717, 0.38604188831678254]\n"
          ]
        },
        {
          "output_type": "display_data",
          "data": {
            "text/plain": [
              "<Figure size 432x288 with 1 Axes>"
            ],
            "image/png": "[encoded data removed]"
          },
          "metadata": {
            "needs_background": "light"
          }
        },
        {
          "output_type": "stream",
          "name": "stdout",
          "text": [
            "[44354.03964451457, 3274.6568647822487, 91124.73189422779]\n"
          ]
        },
        {
          "output_type": "display_data",
          "data": {
            "text/plain": [
              "<Figure size 432x288 with 1 Axes>"
            ],
            "image/png": "[encoded data removed]"
          },
          "metadata": {
            "needs_background": "light"
          }
        }
      ]
    }
  ]
}